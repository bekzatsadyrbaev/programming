{
 "cells": [
  {
   "cell_type": "code",
   "execution_count": 3,
   "metadata": {},
   "outputs": [
    {
     "name": "stdout",
     "output_type": "stream",
     "text": [
      "Enter a number: -5\n",
      "Negative\n"
     ]
    }
   ],
   "source": [
    "x = int(input(\"Enter a number: \"))\n",
    "if x >= 0:\n",
    "    print(\"Positive\")\n",
    "if x <= 0:\n",
    "    print(\"Negative\")\n",
    "else:\n",
    "    print(\"Zero\")"
   ]
  },
  {
   "cell_type": "code",
   "execution_count": 5,
   "metadata": {},
   "outputs": [
    {
     "name": "stdout",
     "output_type": "stream",
     "text": [
      "Enter a number: 13\n",
      "13 is Odd\n"
     ]
    }
   ],
   "source": [
    "x = int(input(\"Enter a number: \"))\n",
    "if (x % 2) == 0:\n",
    "   print(\"{0} is Even\".format(x))\n",
    "else:\n",
    "   print(\"{0} is Odd\".format(x))"
   ]
  },
  {
   "cell_type": "code",
   "execution_count": 7,
   "metadata": {},
   "outputs": [
    {
     "name": "stdout",
     "output_type": "stream",
     "text": [
      "Enter yes or no: no\n",
      "no\n"
     ]
    }
   ],
   "source": [
    "answer = input(\"Enter yes or no: \")\n",
    "if answer == 'yes':\n",
    "    print(\"yes\")\n",
    "if answer == 'no':\n",
    "    print(\"no\")"
   ]
  },
  {
   "cell_type": "code",
   "execution_count": 8,
   "metadata": {},
   "outputs": [
    {
     "name": "stdout",
     "output_type": "stream",
     "text": [
      "Enter your number: 10\n",
      "Enter your number: 115\n",
      "Enter your number: 4848\n",
      "Enter your number: 11\n",
      "Enter your number: 4545\n",
      "Enter your number: 454\n",
      "Enter your number: 1000000000\n",
      "Enter your number: 2\n",
      "Enter your number: 5\n",
      "Enter your number: 6\n",
      "Enter your number: 4\n",
      "Enter your number: 5\n",
      "Enter your number: 0\n"
     ]
    }
   ],
   "source": [
    "while True:\n",
    "    num =int(input(\"Enter your number: \"))\n",
    "    if num == 0:break\n",
    "    "
   ]
  },
  {
   "cell_type": "code",
   "execution_count": 11,
   "metadata": {},
   "outputs": [
    {
     "name": "stdout",
     "output_type": "stream",
     "text": [
      "Enter your word or text: qwerty\n",
      "6\n",
      "Enter your word or text: swim\n",
      "4\n",
      "Enter your word or text: MAMA\n",
      "4\n",
      "Enter your word or text: stop\n"
     ]
    }
   ],
   "source": [
    "while True:\n",
    "    word =input(\"Enter your word or text: \")\n",
    "    if word == 'stop':break\n",
    "    else:\n",
    "        print(len(word))\n",
    "    \n",
    "    "
   ]
  },
  {
   "cell_type": "code",
   "execution_count": null,
   "metadata": {},
   "outputs": [],
   "source": []
  }
 ],
 "metadata": {
  "kernelspec": {
   "display_name": "Python 3",
   "language": "python",
   "name": "python3"
  },
  "language_info": {
   "codemirror_mode": {
    "name": "ipython",
    "version": 3
   },
   "file_extension": ".py",
   "mimetype": "text/x-python",
   "name": "python",
   "nbconvert_exporter": "python",
   "pygments_lexer": "ipython3",
   "version": "3.7.3"
  }
 },
 "nbformat": 4,
 "nbformat_minor": 2
}
