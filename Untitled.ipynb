{
 "cells": [
  {
   "cell_type": "code",
   "execution_count": 22,
   "metadata": {},
   "outputs": [
    {
     "name": "stdout",
     "output_type": "stream",
     "text": [
      "Enter your number: 10\n",
      "I want another number\n"
     ]
    }
   ],
   "source": [
    "x=int(input('Enter your number: '))\n",
    "if x==0:\n",
    "    pass\n",
    "if x == 1:\n",
    "    print(\"You are ZVER!\")\n",
    "else:\n",
    "    print(\"I want another number\")\n",
    "\n",
    "    \n"
   ]
  },
  {
   "cell_type": "code",
   "execution_count": 28,
   "metadata": {},
   "outputs": [
    {
     "name": "stdout",
     "output_type": "stream",
     "text": [
      "Enter your number: 25\n",
      "Enter your number: 25\n",
      "Enter your number: 9\n",
      "Enter your number: 7\n"
     ]
    }
   ],
   "source": [
    "while True:\n",
    "    num =int(input(\"Enter your number: \"))\n",
    "    if num == 7:break\n",
    "    "
   ]
  },
  {
   "cell_type": "code",
   "execution_count": 25,
   "metadata": {},
   "outputs": [],
   "source": [
    "a,b,c,d,e,f,h = 'Success'"
   ]
  },
  {
   "cell_type": "code",
   "execution_count": 26,
   "metadata": {},
   "outputs": [
    {
     "name": "stdout",
     "output_type": "stream",
     "text": [
      "S\n"
     ]
    }
   ],
   "source": [
    "print(a)"
   ]
  },
  {
   "cell_type": "code",
   "execution_count": 29,
   "metadata": {},
   "outputs": [
    {
     "data": {
      "text/plain": [
       "'u'"
      ]
     },
     "execution_count": 29,
     "metadata": {},
     "output_type": "execute_result"
    }
   ],
   "source": [
    "b"
   ]
  },
  {
   "cell_type": "code",
   "execution_count": 30,
   "metadata": {},
   "outputs": [
    {
     "data": {
      "text/plain": [
       "('u', 'c', 'c')"
      ]
     },
     "execution_count": 30,
     "metadata": {},
     "output_type": "execute_result"
    }
   ],
   "source": [
    "b,c,c"
   ]
  },
  {
   "cell_type": "code",
   "execution_count": 31,
   "metadata": {},
   "outputs": [
    {
     "data": {
      "text/plain": [
       "'Success'"
      ]
     },
     "execution_count": 31,
     "metadata": {},
     "output_type": "execute_result"
    }
   ],
   "source": [
    "a+b+c+d+e+f+h\n"
   ]
  },
  {
   "cell_type": "code",
   "execution_count": 36,
   "metadata": {},
   "outputs": [
    {
     "name": "stdout",
     "output_type": "stream",
     "text": [
      "Enter your number: 45\n",
      "Enter your number: 787879789\n",
      "Enter your number: 45456456456456456456456456456456456\n",
      "Enter your number: 0\n",
      "45456456456456456456456457244336290\n"
     ]
    }
   ],
   "source": [
    "x = 0\n",
    "while True:\n",
    "    num =int(input(\"Enter your number: \"))\n",
    "    if num == 0:break\n",
    "    x += num\n",
    "print(x)"
   ]
  },
  {
   "cell_type": "code",
   "execution_count": null,
   "metadata": {},
   "outputs": [],
   "source": [
    "while True:\n",
    "    num =int(input(\"Enter your number: \"))\n",
    "    if num == 1:\n",
    "        print('January')\n",
    "    if num ==2:\n",
    "        print('Febraury')\n",
    "    if num ==3:\n",
    "        print('March')\n",
    "    if num ==4:\n",
    "        print('April')\n",
    "    if num ==5:\n",
    "        print('May')\n",
    "    if num ==6:\n",
    "        print('June')\n",
    "    if num ==7:\n",
    "        print('July')\n",
    "    if num ==8:\n",
    "        print('August')\n",
    "    if num ==9:\n",
    "        print('September')\n",
    "    if num ==10:\n",
    "        print('October')\n",
    "    if num ==11:\n",
    "        print('November')\n",
    "    if num ==12:\n",
    "        print('December')"
   ]
  },
  {
   "cell_type": "code",
   "execution_count": null,
   "metadata": {},
   "outputs": [],
   "source": []
  }
 ],
 "metadata": {
  "kernelspec": {
   "display_name": "Python 3",
   "language": "python",
   "name": "python3"
  },
  "language_info": {
   "codemirror_mode": {
    "name": "ipython",
    "version": 3
   },
   "file_extension": ".py",
   "mimetype": "text/x-python",
   "name": "python",
   "nbconvert_exporter": "python",
   "pygments_lexer": "ipython3",
   "version": "3.7.3"
  }
 },
 "nbformat": 4,
 "nbformat_minor": 2
}
