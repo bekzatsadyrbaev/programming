{
 "cells": [
  {
   "cell_type": "code",
   "execution_count": 8,
   "metadata": {},
   "outputs": [
    {
     "name": "stdout",
     "output_type": "stream",
     "text": [
      "Enter your number: 12\n",
      "You are zver!\n"
     ]
    }
   ],
   "source": [
    "my_fav_num = 12\n",
    "while True:\n",
    "    x = int(input(\"Enter your number: \"))\n",
    "    if x >12:\n",
    "        print(\"Your number is too high\")\n",
    "    elif x < 12:\n",
    "        print(\"Your number is too low\")\n",
    "    else:\n",
    "        print(\"You are zver!\")\n",
    "        break\n",
    "        "
   ]
  },
  {
   "cell_type": "code",
   "execution_count": 15,
   "metadata": {},
   "outputs": [
    {
     "name": "stdout",
     "output_type": "stream",
     "text": [
      "Canada  b   e   m   a  USA  b   e   m   a  Mexico  b   e   m   a  Australia  b   e   m   a  "
     ]
    }
   ],
   "source": [
    "countries = [\"Canada\",\"USA\",\"Mexico\",\"Australia\"]\n",
    "for country in countries:\n",
    "    print(country, end = '  b   e   m   a  ' )\n"
   ]
  },
  {
   "cell_type": "code",
   "execution_count": 16,
   "metadata": {},
   "outputs": [
    {
     "name": "stdout",
     "output_type": "stream",
     "text": [
      "0\n",
      "1\n",
      "2\n",
      "3\n",
      "4\n",
      "5\n",
      "6\n",
      "7\n",
      "8\n",
      "9\n",
      "10\n",
      "11\n",
      "12\n",
      "13\n",
      "14\n",
      "15\n",
      "16\n",
      "17\n",
      "18\n",
      "19\n",
      "20\n",
      "21\n",
      "22\n",
      "23\n",
      "24\n",
      "25\n",
      "26\n",
      "27\n",
      "28\n",
      "29\n",
      "30\n",
      "31\n",
      "32\n",
      "33\n",
      "34\n",
      "35\n",
      "36\n",
      "37\n",
      "38\n",
      "39\n",
      "40\n",
      "41\n",
      "42\n",
      "43\n",
      "44\n",
      "45\n",
      "46\n",
      "47\n",
      "48\n",
      "49\n",
      "50\n",
      "51\n",
      "52\n",
      "53\n",
      "54\n",
      "55\n",
      "56\n",
      "57\n",
      "58\n",
      "59\n",
      "60\n",
      "61\n",
      "62\n",
      "63\n",
      "64\n",
      "65\n",
      "66\n",
      "67\n",
      "68\n",
      "69\n",
      "70\n",
      "71\n",
      "72\n",
      "73\n",
      "74\n",
      "75\n",
      "76\n",
      "77\n",
      "78\n",
      "79\n",
      "80\n",
      "81\n",
      "82\n",
      "83\n",
      "84\n",
      "85\n",
      "86\n",
      "87\n",
      "88\n",
      "89\n",
      "90\n",
      "91\n",
      "92\n",
      "93\n",
      "94\n",
      "95\n",
      "96\n",
      "97\n",
      "98\n",
      "99\n"
     ]
    }
   ],
   "source": [
    "for x in range(100):\n",
    "    print(x)"
   ]
  },
  {
   "cell_type": "code",
   "execution_count": 29,
   "metadata": {},
   "outputs": [
    {
     "name": "stdout",
     "output_type": "stream",
     "text": [
      "Enter your number: 15\n",
      "1 2 3 4 5 6 7 8 9 10 11 12 13 14 15 \n",
      "2 4 6 8 10 12 14 16 18 20 22 24 26 28 30 \n",
      "3 6 9 12 15 18 21 24 27 30 33 36 39 42 45 \n",
      "4 8 12 16 20 24 28 32 36 40 44 48 52 56 60 \n",
      "5 10 15 20 25 30 35 40 45 50 55 60 65 70 75 \n",
      "6 12 18 24 30 36 42 48 54 60 66 72 78 84 90 \n",
      "7 14 21 28 35 42 49 56 63 70 77 84 91 98 105 \n",
      "8 16 24 32 40 48 56 64 72 80 88 96 104 112 120 \n",
      "9 18 27 36 45 54 63 72 81 90 99 108 117 126 135 \n",
      "10 20 30 40 50 60 70 80 90 100 110 120 130 140 150 \n",
      "11 22 33 44 55 66 77 88 99 110 121 132 143 154 165 \n",
      "12 24 36 48 60 72 84 96 108 120 132 144 156 168 180 \n",
      "13 26 39 52 65 78 91 104 117 130 143 156 169 182 195 \n",
      "14 28 42 56 70 84 98 112 126 140 154 168 182 196 210 \n",
      "15 30 45 60 75 90 105 120 135 150 165 180 195 210 225 \n"
     ]
    }
   ],
   "source": [
    "num = int(input(\"Enter your number: \"))\n",
    "for x in range (1,num+1):\n",
    "    for y in range (1,num+1):\n",
    "        print (x * y , end= ' ')\n",
    "    print( )\n",
    "        "
   ]
  },
  {
   "cell_type": "code",
   "execution_count": 54,
   "metadata": {},
   "outputs": [
    {
     "name": "stdout",
     "output_type": "stream",
     "text": [
      "10\n",
      "9\n",
      "8\n",
      "7\n",
      "6\n",
      "5\n",
      "4\n",
      "3\n",
      "2\n",
      "1\n"
     ]
    }
   ],
   "source": [
    "for i in range(10, 0, -1):\n",
    "    print(i)"
   ]
  },
  {
   "cell_type": "code",
   "execution_count": 68,
   "metadata": {},
   "outputs": [
    {
     "name": "stdout",
     "output_type": "stream",
     "text": [
      "0\n",
      "2\n",
      "4\n",
      "6\n",
      "8\n",
      "10\n"
     ]
    }
   ],
   "source": [
    "for i in range(0, 12):\n",
    "    if i%2==0:\n",
    "        print(i)\n"
   ]
  },
  {
   "cell_type": "code",
   "execution_count": 71,
   "metadata": {},
   "outputs": [
    {
     "name": "stdout",
     "output_type": "stream",
     "text": [
      "14950\n"
     ]
    }
   ],
   "source": [
    "sum = 0\n",
    "for i in range(100,200):\n",
    "    sum+= i\n",
    "    \n",
    "print(sum)"
   ]
  },
  {
   "cell_type": "code",
   "execution_count": null,
   "metadata": {},
   "outputs": [],
   "source": []
  }
 ],
 "metadata": {
  "kernelspec": {
   "display_name": "Python 3",
   "language": "python",
   "name": "python3"
  },
  "language_info": {
   "codemirror_mode": {
    "name": "ipython",
    "version": 3
   },
   "file_extension": ".py",
   "mimetype": "text/x-python",
   "name": "python",
   "nbconvert_exporter": "python",
   "pygments_lexer": "ipython3",
   "version": "3.7.3"
  }
 },
 "nbformat": 4,
 "nbformat_minor": 2
}
