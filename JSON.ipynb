{
 "cells": [
  {
   "cell_type": "code",
   "execution_count": 15,
   "metadata": {},
   "outputs": [],
   "source": [
    "myfile=open('myfile.txt','w')\n"
   ]
  },
  {
   "cell_type": "code",
   "execution_count": 16,
   "metadata": {},
   "outputs": [
    {
     "data": {
      "text/plain": [
       "10"
      ]
     },
     "execution_count": 16,
     "metadata": {},
     "output_type": "execute_result"
    }
   ],
   "source": [
    "myfile.write('Whatsapp?\\n')"
   ]
  },
  {
   "cell_type": "code",
   "execution_count": 17,
   "metadata": {},
   "outputs": [
    {
     "data": {
      "text/plain": [
       "19"
      ]
     },
     "execution_count": 17,
     "metadata": {},
     "output_type": "execute_result"
    }
   ],
   "source": [
    "myfile.write('Everything is fine\\n')"
   ]
  },
  {
   "cell_type": "code",
   "execution_count": 19,
   "metadata": {},
   "outputs": [],
   "source": [
    "myfile.close()"
   ]
  },
  {
   "cell_type": "code",
   "execution_count": 20,
   "metadata": {},
   "outputs": [],
   "source": [
    "myfile=open('myfile.txt','r')\n"
   ]
  },
  {
   "cell_type": "code",
   "execution_count": 21,
   "metadata": {},
   "outputs": [
    {
     "data": {
      "text/plain": [
       "'Whatsapp?\\n'"
      ]
     },
     "execution_count": 21,
     "metadata": {},
     "output_type": "execute_result"
    }
   ],
   "source": [
    "myfile.readline()"
   ]
  },
  {
   "cell_type": "code",
   "execution_count": 22,
   "metadata": {},
   "outputs": [
    {
     "data": {
      "text/plain": [
       "'Everything is fine\\n'"
      ]
     },
     "execution_count": 22,
     "metadata": {},
     "output_type": "execute_result"
    }
   ],
   "source": [
    "myfile.readline()"
   ]
  },
  {
   "cell_type": "code",
   "execution_count": 23,
   "metadata": {},
   "outputs": [
    {
     "data": {
      "text/plain": [
       "''"
      ]
     },
     "execution_count": 23,
     "metadata": {},
     "output_type": "execute_result"
    }
   ],
   "source": [
    "myfile.readline()"
   ]
  },
  {
   "cell_type": "code",
   "execution_count": 24,
   "metadata": {},
   "outputs": [],
   "source": [
    "with open(\"myfile.txt\", \"r\") as f:\n",
    "    lines = f.readlines() \n",
    "    lines.remove(\"Whatsapp?\\n\")"
   ]
  },
  {
   "cell_type": "code",
   "execution_count": 25,
   "metadata": {},
   "outputs": [
    {
     "data": {
      "text/plain": [
       "''"
      ]
     },
     "execution_count": 25,
     "metadata": {},
     "output_type": "execute_result"
    }
   ],
   "source": [
    "myfile.readline()"
   ]
  },
  {
   "cell_type": "code",
   "execution_count": 26,
   "metadata": {},
   "outputs": [
    {
     "data": {
      "text/plain": [
       "''"
      ]
     },
     "execution_count": 26,
     "metadata": {},
     "output_type": "execute_result"
    }
   ],
   "source": [
    "myfile.readline()\n",
    "\n"
   ]
  },
  {
   "cell_type": "code",
   "execution_count": 28,
   "metadata": {},
   "outputs": [
    {
     "data": {
      "text/plain": [
       "{'office': {'medical': [{'room-number': 100,\n",
       "    'use': 'reception',\n",
       "    'sq-ft': 50,\n",
       "    'price': 75},\n",
       "   {'room-number': 101, 'use': 'waiting', 'sq-ft': 250, 'price': 75},\n",
       "   {'room-number': 102, 'use': 'examination', 'sq-ft': 125, 'price': 150},\n",
       "   {'room-number': 103, 'use': 'examination', 'sq-ft': 125, 'price': 150},\n",
       "   {'room-number': 104, 'use': 'office', 'sq-ft': 150, 'price': 100}],\n",
       "  'parking': {'location': 'premium', 'style': 'covered', 'price': 750}}}"
      ]
     },
     "execution_count": 28,
     "metadata": {},
     "output_type": "execute_result"
    }
   ],
   "source": [
    "{ \"office\": \n",
    "    {\"medical\": [\n",
    "      { \"room-number\": 100,\n",
    "        \"use\": \"reception\",\n",
    "        \"sq-ft\": 50,\n",
    "        \"price\": 75\n",
    "      },\n",
    "      { \"room-number\": 101,\n",
    "        \"use\": \"waiting\",\n",
    "        \"sq-ft\": 250,\n",
    "        \"price\": 75\n",
    "      },\n",
    "      { \"room-number\": 102,\n",
    "        \"use\": \"examination\",\n",
    "        \"sq-ft\": 125,\n",
    "        \"price\": 150\n",
    "      },\n",
    "      { \"room-number\": 103,\n",
    "        \"use\": \"examination\",\n",
    "        \"sq-ft\": 125,\n",
    "        \"price\": 150\n",
    "      },\n",
    "      { \"room-number\": 104,\n",
    "        \"use\": \"office\",\n",
    "        \"sq-ft\": 150,\n",
    "        \"price\": 100\n",
    "      }\n",
    "    ],\n",
    "    \"parking\": {\n",
    "      \"location\": \"premium\",\n",
    "      \"style\": \"covered\",\n",
    "      \"price\": 750\n",
    "    }\n",
    "  }\n",
    "} \n"
   ]
  },
  {
   "cell_type": "code",
   "execution_count": 37,
   "metadata": {},
   "outputs": [
    {
     "data": {
      "text/plain": [
       "[{'User': 'Bekzat', 'Followers': '1000', 'Following': '500'}]"
      ]
     },
     "execution_count": 37,
     "metadata": {},
     "output_type": "execute_result"
    }
   ],
   "source": [
    "[{\n",
    "    \"User\":\"Bekzat\",\n",
    "    \"Followers\":\"1000\",\n",
    "    \"Following\":\"500\",\n",
    "}]"
   ]
  },
  {
   "cell_type": "code",
   "execution_count": null,
   "metadata": {},
   "outputs": [],
   "source": []
  }
 ],
 "metadata": {
  "kernelspec": {
   "display_name": "Python 3",
   "language": "python",
   "name": "python3"
  },
  "language_info": {
   "codemirror_mode": {
    "name": "ipython",
    "version": 3
   },
   "file_extension": ".py",
   "mimetype": "text/x-python",
   "name": "python",
   "nbconvert_exporter": "python",
   "pygments_lexer": "ipython3",
   "version": "3.7.3"
  }
 },
 "nbformat": 4,
 "nbformat_minor": 2
}
