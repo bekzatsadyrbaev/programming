{
 "cells": [
  {
   "cell_type": "code",
   "execution_count": 5,
   "metadata": {},
   "outputs": [
    {
     "name": "stdout",
     "output_type": "stream",
     "text": [
      "I love apple\n",
      "I love banana\n"
     ]
    }
   ],
   "source": [
    "def my_function(fruit = \"banana\"):\n",
    "    print(\"I love \" + fruit)\n",
    "    \n",
    "my_function(\"apple\")\n",
    "my_function()\n"
   ]
  },
  {
   "cell_type": "code",
   "execution_count": 9,
   "metadata": {},
   "outputs": [
    {
     "name": "stdout",
     "output_type": "stream",
     "text": [
      "Hello I am a function\n"
     ]
    }
   ],
   "source": [
    "def printer(message = \"function\"):\n",
    "    print(\"Hello I am a \" + message)\n",
    "printer()"
   ]
  },
  {
   "cell_type": "code",
   "execution_count": 15,
   "metadata": {},
   "outputs": [
    {
     "name": "stdout",
     "output_type": "stream",
     "text": [
      "Name:  Tala\n",
      "Age  20\n",
      "Name:  IBRA\n",
      "Age  35\n"
     ]
    }
   ],
   "source": [
    "def printinfo( name, age = 35 ):\n",
    "   print (\"Name: \", name)\n",
    "   print (\"Age \", age)\n",
    "   return;\n",
    "\n",
    "printinfo( age=20, name=\"Tala\" )\n",
    "printinfo( name=\"IBRA\" )\n",
    "    \n",
    "    "
   ]
  },
  {
   "cell_type": "code",
   "execution_count": 25,
   "metadata": {},
   "outputs": [
    {
     "name": "stdout",
     "output_type": "stream",
     "text": [
      "old\n"
     ]
    }
   ],
   "source": [
    "x = 'old'\n",
    "def changer():\n",
    "    global x; x = 'new'\n",
    "print(x)"
   ]
  },
  {
   "cell_type": "code",
   "execution_count": null,
   "metadata": {},
   "outputs": [],
   "source": [
    "def changeme( mylist ):\n",
    "   \"This changes a passed list into this function\"\n",
    "   mylist = [1,2,3,4];\n",
    "   print \"Values inside the function: \", mylist\n",
    "   return\n",
    "\n",
    "# Now you can call changeme function\n",
    "mylist = [10,20,30];\n",
    "changeme( mylist );\n",
    "print \"Values outside the function: \", mylist"
   ]
  }
 ],
 "metadata": {
  "kernelspec": {
   "display_name": "Python 3",
   "language": "python",
   "name": "python3"
  },
  "language_info": {
   "codemirror_mode": {
    "name": "ipython",
    "version": 3
   },
   "file_extension": ".py",
   "mimetype": "text/x-python",
   "name": "python",
   "nbconvert_exporter": "python",
   "pygments_lexer": "ipython3",
   "version": "3.7.3"
  }
 },
 "nbformat": 4,
 "nbformat_minor": 2
}
