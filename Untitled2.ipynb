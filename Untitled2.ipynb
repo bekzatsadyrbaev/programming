{
 "cells": [
  {
   "cell_type": "code",
   "execution_count": 1,
   "metadata": {},
   "outputs": [
    {
     "name": "stdout",
     "output_type": "stream",
     "text": [
      "Enter your number: 1\n",
      "January\n",
      "Enter your number: 5\n",
      "May\n",
      "Enter your number: 2\n",
      "Febraury\n",
      "Enter your number: 6\n",
      "June\n",
      "Enter your number: 0\n"
     ]
    }
   ],
   "source": [
    "while True:\n",
    "    num =int(input(\"Enter your number: \"))\n",
    "    if num == 0:break\n",
    "    if num == 1:\n",
    "        print('January')\n",
    "    if num ==2:\n",
    "        print('Febraury')\n",
    "    if num ==3:\n",
    "        print('March')\n",
    "    if num ==4:\n",
    "        print('April')\n",
    "    if num ==5:\n",
    "        print('May')\n",
    "    if num ==6:\n",
    "        print('June')\n",
    "    if num ==7:\n",
    "        print('July')\n",
    "    if num ==8:\n",
    "        print('August')\n",
    "    if num ==9:\n",
    "        print('September')\n",
    "    if num ==10:\n",
    "        print('October')\n",
    "    if num ==11:\n",
    "        print('November')\n",
    "    if num ==12:\n",
    "        print('December')"
   ]
  },
  {
   "cell_type": "code",
   "execution_count": null,
   "metadata": {},
   "outputs": [],
   "source": []
  }
 ],
 "metadata": {
  "kernelspec": {
   "display_name": "Python 3",
   "language": "python",
   "name": "python3"
  },
  "language_info": {
   "codemirror_mode": {
    "name": "ipython",
    "version": 3
   },
   "file_extension": ".py",
   "mimetype": "text/x-python",
   "name": "python",
   "nbconvert_exporter": "python",
   "pygments_lexer": "ipython3",
   "version": "3.7.3"
  }
 },
 "nbformat": 4,
 "nbformat_minor": 2
}
